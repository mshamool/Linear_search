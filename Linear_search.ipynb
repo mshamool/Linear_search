{
 "cells": [
  {
   "cell_type": "markdown",
   "id": "2c5256b2-ec73-4d25-a940-873a76cd5e82",
   "metadata": {},
   "source": [
    "#### Find Element in List\n",
    "\n",
    "Task: Check if a number x exists in the list or not.\n",
    "\n",
    "Input: arr = [1, 3, 5, 7, 9], x = 5\n",
    "\n",
    "Output: True"
   ]
  },
  {
   "cell_type": "code",
   "execution_count": 5,
   "id": "94588d1a-01ac-4997-a20f-cef1cd53dd27",
   "metadata": {},
   "outputs": [
    {
     "data": {
      "text/plain": [
       "True"
      ]
     },
     "execution_count": 5,
     "metadata": {},
     "output_type": "execute_result"
    }
   ],
   "source": [
    "def func1(arr,target):\n",
    "    for i in arr:\n",
    "        if i == target:\n",
    "            return True\n",
    "    return False\n",
    "arr = [1, 3, 5, 7, 9]\n",
    "x = 5\n",
    "func1(arr,x)"
   ]
  },
  {
   "cell_type": "markdown",
   "id": "25eb4e66-3e98-441d-b64b-7642614e3745",
   "metadata": {},
   "source": [
    "#### Find Index of Element\n",
    "\n",
    "Task: Return the index of the first occurrence of element x.\n",
    "\n",
    "Input: arr = [2, 4, 6, 8, 10], x = 8\n",
    "\n",
    "Output: 3"
   ]
  },
  {
   "cell_type": "code",
   "execution_count": 9,
   "id": "9e42c59e-8f34-4f6c-810b-1404fb7a40d6",
   "metadata": {},
   "outputs": [
    {
     "data": {
      "text/plain": [
       "'Target found at index 3'"
      ]
     },
     "execution_count": 9,
     "metadata": {},
     "output_type": "execute_result"
    }
   ],
   "source": [
    "def func2(arr,target):\n",
    "    for i in range(len(arr)):\n",
    "        if arr[i] == target:\n",
    "            return f\"Target found at index {i}\"\n",
    "    return \"Target not found\"\n",
    "\n",
    "arr = [2,4,6,8,10]\n",
    "x = 8\n",
    "func2(arr,x)"
   ]
  },
  {
   "cell_type": "markdown",
   "id": "246aa3ea-d1ff-4d35-b399-596b80f9b194",
   "metadata": {},
   "source": [
    "#### Count Occurrences\n",
    "\n",
    "Task: Count how many times an element appears in the list.\n",
    "\n",
    "Input: arr = [1, 2, 3, 2, 4, 2], x = 2\n",
    "\n",
    "Output: 3"
   ]
  },
  {
   "cell_type": "code",
   "execution_count": 12,
   "id": "6dc949f0-54a1-4dac-ae68-8c3e11e03639",
   "metadata": {},
   "outputs": [
    {
     "data": {
      "text/plain": [
       "3"
      ]
     },
     "execution_count": 12,
     "metadata": {},
     "output_type": "execute_result"
    }
   ],
   "source": [
    "def func3(arr,target):\n",
    "    count = 0\n",
    "    for i in arr:\n",
    "        if i == target:\n",
    "            count += 1\n",
    "    return count\n",
    "\n",
    "arr = [1, 2, 3, 2, 4, 2]\n",
    "x = 2\n",
    "func3(arr,x)"
   ]
  },
  {
   "cell_type": "markdown",
   "id": "9309e368-bd46-49d5-a775-33211f2b7f66",
   "metadata": {},
   "source": [
    "#### Find All Indices of an Element\n",
    "\n",
    "Task: Return a list of all indices where element x appears.\n",
    "\n",
    "Input: arr = [3, 5, 2, 5, 6, 5], x = 5\n",
    "\n",
    "Output: [1, 3, 5]"
   ]
  },
  {
   "cell_type": "code",
   "execution_count": 13,
   "id": "00ada03e-5bdd-4724-a300-84fc845a914e",
   "metadata": {},
   "outputs": [
    {
     "data": {
      "text/plain": [
       "[1, 3, 5]"
      ]
     },
     "execution_count": 13,
     "metadata": {},
     "output_type": "execute_result"
    }
   ],
   "source": [
    "def func4(arr,target):\n",
    "    lst = []\n",
    "    for i in range(len(arr)):\n",
    "        if arr[i] == target:\n",
    "            lst.append(i)\n",
    "    return lst\n",
    "\n",
    "arr = [3, 5, 2, 5, 6, 5]\n",
    "x = 5\n",
    "func4(arr,x)"
   ]
  },
  {
   "cell_type": "markdown",
   "id": "ffc0d2dc-c3f1-4496-a00c-d68deb701334",
   "metadata": {},
   "source": [
    "#### Find Minimum and Maximum\n",
    "\n",
    "Task: Find the smallest and largest number using linear search.\n",
    "\n",
    "Input: arr = [7, 2, 9, 4, 1]\n",
    "\n",
    "Output: min = 1, max = 9"
   ]
  },
  {
   "cell_type": "code",
   "execution_count": 15,
   "id": "05d95f07-691d-4bff-83af-6492f2cecc25",
   "metadata": {},
   "outputs": [
    {
     "data": {
      "text/plain": [
       "'min : 10, max : 71'"
      ]
     },
     "execution_count": 15,
     "metadata": {},
     "output_type": "execute_result"
    }
   ],
   "source": [
    "def func5(arr):\n",
    "    min = arr[0]\n",
    "    max = arr[0]\n",
    "    for i in arr:\n",
    "        if i < min:\n",
    "            min = i\n",
    "        elif i > max:\n",
    "            max = i\n",
    "    return f\"min : {min}, max : {max}\"\n",
    "\n",
    "arr = [71,22,19,45,10]\n",
    "func5(arr)"
   ]
  },
  {
   "cell_type": "markdown",
   "id": "794c338d-a568-4345-afdb-d6dd1212946a",
   "metadata": {},
   "source": [
    "#### Search in Unsorted List of Strings\n",
    "\n",
    "Task: Search for a specific name in a list of names.\n",
    "\n",
    "Input: names = ['John', 'Alice', 'Bob'], search = 'Alice'\n",
    "\n",
    "Output: Found at index 1"
   ]
  },
  {
   "cell_type": "code",
   "execution_count": 16,
   "id": "0ba3d199-bd62-4e11-a83f-bbd76eace6e9",
   "metadata": {},
   "outputs": [
    {
     "data": {
      "text/plain": [
       "'Target found at index 1'"
      ]
     },
     "execution_count": 16,
     "metadata": {},
     "output_type": "execute_result"
    }
   ],
   "source": [
    "def func6(arr,target):\n",
    "    for i in range(len(arr)):\n",
    "        if arr[i] == target:\n",
    "            return f\"Target found at index {i}\"\n",
    "    return f\"Target not found\"\n",
    "\n",
    "names = ['John', 'Alice', 'Bob']\n",
    "search = 'Alice'\n",
    "func6(names,search)"
   ]
  },
  {
   "cell_type": "code",
   "execution_count": null,
   "id": "219aeed5-2625-484b-a4e2-19775540b047",
   "metadata": {},
   "outputs": [],
   "source": []
  }
 ],
 "metadata": {
  "kernelspec": {
   "display_name": "Python 3 (ipykernel)",
   "language": "python",
   "name": "python3"
  },
  "language_info": {
   "codemirror_mode": {
    "name": "ipython",
    "version": 3
   },
   "file_extension": ".py",
   "mimetype": "text/x-python",
   "name": "python",
   "nbconvert_exporter": "python",
   "pygments_lexer": "ipython3",
   "version": "3.12.1"
  }
 },
 "nbformat": 4,
 "nbformat_minor": 5
}
